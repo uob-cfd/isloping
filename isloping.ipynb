{
 "cells": [
  {
   "cell_type": "markdown",
   "metadata": {},
   "source": [
    "# I, slope\n",
    "\n",
    "This exercise gives you some hands-on practice with linear regression."
   ]
  },
  {
   "cell_type": "code",
   "execution_count": null,
   "metadata": {},
   "outputs": [],
   "source": [
    "# Run this cell, but please don't change it.\n",
    "\n",
    "# These lines import the Numpy and Pandas modules.\n",
    "import numpy as np\n",
    "import pandas as pd\n",
    "from scipy.optimize import minimize\n",
    "\n",
    "# These lines do some fancy plotting magic.\n",
    "import matplotlib\n",
    "%matplotlib inline\n",
    "import matplotlib.pyplot as plt\n",
    "plt.style.use('fivethirtyeight')\n",
    "\n",
    "# These lines load the tests.\n",
    "from client.api.notebook import Notebook\n",
    "ok = Notebook('isloping.ok')"
   ]
  },
  {
   "cell_type": "markdown",
   "metadata": {},
   "source": [
    "## Hemoglobin and serum creatinine\n",
    "\n",
    "We start by loading the [data on chronic kidney disease](https://matthew-brett.github.io/cfd2019/data/chronic_kidney_disease)."
   ]
  },
  {
   "cell_type": "code",
   "execution_count": null,
   "metadata": {},
   "outputs": [],
   "source": [
    "ckd = pd.read_csv('ckd_clean.csv')\n",
    "ckd.head()"
   ]
  },
  {
   "cell_type": "markdown",
   "metadata": {},
   "source": [
    "Our interest here is in two variables / columns:\n",
    "\n",
    "* \"Hemoglobin\" : the concentration of the protein in red blood cells.  This\n",
    "  tends to go down in chronic kidney disease.\n",
    "* \"Serum creatinine\" : this is a measure of how well the kidney is clearing\n",
    "  waste products from the blood.  If your kidneys are working well, your\n",
    "  creatinine should be low."
   ]
  },
  {
   "cell_type": "code",
   "execution_count": null,
   "metadata": {},
   "outputs": [],
   "source": [
    "ckd.plot.scatter('Hemoglobin', 'Serum Creatinine')\n",
    "hgb = np.array(ckd['Hemoglobin'])\n",
    "creat = np.array(ckd['Serum Creatinine'])"
   ]
  },
  {
   "cell_type": "markdown",
   "metadata": {},
   "source": [
    "Now your job is to find the best (least-squares) line fitting `hgb` (on the x axis) to `creat` (on the y axis).\n",
    "\n",
    "To help you, here is the `ss_any_line` function from [using minimize](https://matthew-brett.github.io/cfd2019/chapters/08/using_minimize)."
   ]
  },
  {
   "cell_type": "code",
   "execution_count": null,
   "metadata": {},
   "outputs": [],
   "source": [
    "def ss_any_line(c_s, x_values, y_values):\n",
    "    c, s = c_s\n",
    "    predicted = c + x_values * s\n",
    "    error = y_values - predicted\n",
    "    return np.sum(error ** 2)"
   ]
  },
  {
   "cell_type": "markdown",
   "metadata": {},
   "source": [
    "Use this function to calculate the sum of squares error for a line with\n",
    "intercept 25 and slope -1."
   ]
  },
  {
   "cell_type": "code",
   "execution_count": null,
   "metadata": {},
   "outputs": [],
   "source": [
    "ss_guessed = ...\n",
    "ss_guessed"
   ]
  },
  {
   "cell_type": "code",
   "execution_count": null,
   "metadata": {},
   "outputs": [],
   "source": [
    "_ = ok.grade('q_1_guessed_line')"
   ]
  },
  {
   "cell_type": "markdown",
   "metadata": {},
   "source": [
    "Now use `minimize` to calculate the best fit intercept and slope:"
   ]
  },
  {
   "cell_type": "code",
   "execution_count": null,
   "metadata": {},
   "outputs": [],
   "source": [
    "best_inter, best_slope = ...\n",
    "print(best_inter)\n",
    "print(best_slope)"
   ]
  },
  {
   "cell_type": "code",
   "execution_count": null,
   "metadata": {},
   "outputs": [],
   "source": [
    "_ = ok.grade('q_2_best_line')"
   ]
  },
  {
   "cell_type": "markdown",
   "metadata": {},
   "source": [
    "## Done\n",
    "\n",
    "You're finished with the assignment!  Be sure to...\n",
    "\n",
    "- **run all the tests** (the next cell has a shortcut for that),\n",
    "- **Save and Checkpoint** from the \"File\" menu.\n",
    "- Finally, **restart** the kernel for this notebook, and **run all the cells**,\n",
    "  to check that the notebook still works without errors.  Use the\n",
    "  \"Kernel\" menu, and choose \"Restart and run all\".  If you find any\n",
    "  problems, go back and fix them, save the notebook, and restart / run\n",
    "  all again, before submitting.  When you do this, you make sure that\n",
    "  we, your humble markers, will be able to mark your notebook."
   ]
  },
  {
   "cell_type": "code",
   "execution_count": null,
   "metadata": {},
   "outputs": [],
   "source": [
    "# For your convenience, you can run this cell to run all the tests at once!\n",
    "import os\n",
    "_ = [ok.grade(q[:-3]) for q in os.listdir(\"tests\") if q.startswith('q')]"
   ]
  }
 ],
 "metadata": {
  "jupytext": {
   "split_at_heading": true,
   "text_representation": {
    "extension": ".Rmd",
    "format_name": "rmarkdown",
    "format_version": "1.1",
    "jupytext_version": "1.2.4"
   }
  },
  "kernelspec": {
   "display_name": "Python 3",
   "language": "python",
   "name": "python3"
  }
 },
 "nbformat": 4,
 "nbformat_minor": 2
}
